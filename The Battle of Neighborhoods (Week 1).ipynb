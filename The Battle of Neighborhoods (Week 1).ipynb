{
    "cells": [
        {
            "cell_type": "markdown",
            "metadata": {
                "collapsed": true
            },
            "source": "# Coursera Capstone - Battle of the Neighbourhoods (Week 1)"
        },
        {
            "cell_type": "markdown",
            "metadata": {},
            "source": "As part of the final module for the IBM Data Science Professional Certificate, I am tasked with using all skills, technologies and methods learnt throughout the 9 module course, alongside utilising the foursquare API and any relevant accessible data, to experiment with real world problems in the data science world. \n\nFor this week, I will be providing:\n\n- A description of the problem and a discussion of the background. \n- A description of the data and how it will be used to solve the problem."
        },
        {
            "cell_type": "markdown",
            "metadata": {},
            "source": "## 1. Discussion and Background of the Business Problem"
        },
        {
            "cell_type": "markdown",
            "metadata": {},
            "source": "BrightMindsDS is a new tech company that specialises in Machine Learning and Big Data. The start up origianlly began in the CEO's garage in Kent, with 4 employees trying to do everything. Since landing 6 new clients they have had just cause to expand the business and move their office to a more professional location in London, England. The founder of BrightMindsDS requires at least 10 more employees and wants to find a suitable office space to encourage growth, innovation and creativity. \n\n\"Companies that care more about health and welfare of their employees enjoy better engagement, while employees are less often sick, meaning productivity receives a boost. With this in mind, a new report has encouraged employers to think more about how they can make their employees more healthy.\" (1) \n\n\"Although success can bring happiness, to create great work, the employees\u2019 health, wellbeing and happiness is the most important factor.\" (2)\n\nWith this in mind, the CEO wants to create a nice atmosphere for his new employees. He believes that his employees' health and wellbeing will be a main driver towards the company's success. When looking at possible locations for the new office, things like:\n\n- Can it be accessed via local transport? \n- Are there any gyms nearby?\n- Is there a nice park/open space near by?\n- Are there good coffee shops nearby for lunch?\n- Are there good bars/nightclubs to socialise in after work?\n\n\nwill be considered. \n\nIn order to obtain an ideal location for the new office space, the London area is explored through clustering and segmentation based on London Post code data and fulfilment of the requirements.\n\n(1) https://www.consultancy.uk/news/18201/companies-that-invest-in-employee-health-enjoy-higher-engagement\n\n(2) https://inside.6q.io/employee-health-wellbeing-matters/"
        },
        {
            "cell_type": "markdown",
            "metadata": {},
            "source": "### Target Audience - Week2\n\n"
        },
        {
            "cell_type": "markdown",
            "metadata": {},
            "source": "## 2. Data Preparation\n\nThe data for this project will be collected from the Foursquare API and Wikipedia. From wikipedia I can obtain a list of all of the boroughs in London, alongside their postal codes. Using Foursquare I can obtain relevant information about the selected areas.\n\nLondon synonymous to the Greater London Area, is the capital and largest city of England and of the United Kingdom. It encompasses a total area of 1,583 square kilometres (611 sq mi), an area which had a population of 7,172,036 in 2001 and a population density of 4,542 inhabitants per square kilometre (11,760/sq mi). There are 32 Boroughs in Greater London as well as the 'City of London' principal division. There are 8 Post Code areas; N, NW, SW, SE, W, WC, E and EC. And 121 post code districts. As to be expected this is a very large data set. \n\nBasic research has led me to focus on East London, i.e. Boroughs with the Post Code starting with E or EC. I have made this decision as this is where the 'East London Tech City' can be found. It is said to be a great location to build your company.\n\n\"Some ask why they should set up there. I say the cluster is where your business is most likely to succeed. Your partners clients, investors will be there. You\u2019ll be able to hire people. You\u2019ll come up with great ideas.\" (3)\n\nUsing python libraries and frameworks I will be able to scrape these wiki pages to obtain this relevant data;\n\n- Location\n- Borough  \n- Post-town\n- Post Code\n- Dial Code\n- Grid reference \n- Average price to buy office space\n\nThis data will be filtered to contain only East London locations. \n\nUsing the Geocoder package I can get the Latitude and Longitude for each of these locations. \n\nThe Foursquare API allows application developers to interact with the Foursquare platform. The API itself is a RESTful set of addresses to which you can send requests, so there's really nothing to download onto your server. \nYou can currently request output in XML or JSON format. \n\nUsing the Foursquare API I will be able to make specific requests about set locations. I hope to collect a vast amount of data to help fullfil BrightMindsDS requirements and answer their questions. \n\nDepending on how much data is available will also help determine whether a location is suitable. Again, this will be relevant to the questions; e.g.\n\nThe client will want at least 5 coffee shops nearby with a minimum 4 star rating but will only require 1 park/open space to be close to the office. If there are only 2 gyms that shoudn't be a problem compared to if there were only 2 bars in the local area etc. \n\nData I hope to obtain:\n\n- Type of venue\n- Distance from neighbourhood \n- Ratings \n- Comments \n- Latitude\n- Longitude \n\nLooking at the Foursquare API data, I will hopefully be provided with relevant, personal and reliable data. Using these factors will help to decide where the best location will be to set up the new BrightMindsDS office. \n\n\n\n(3) https://www.mbymontcalm.co.uk/blog/all-you-need-to-know-about-east-london-tech-city/\n\n"
        },
        {
            "cell_type": "markdown",
            "metadata": {},
            "source": "## Methodology"
        },
        {
            "cell_type": "markdown",
            "metadata": {},
            "source": "## Results"
        },
        {
            "cell_type": "markdown",
            "metadata": {},
            "source": "## Discussion"
        },
        {
            "cell_type": "markdown",
            "metadata": {},
            "source": "## Conclusion"
        },
        {
            "cell_type": "code",
            "execution_count": null,
            "metadata": {},
            "outputs": [],
            "source": ""
        }
    ],
    "metadata": {
        "kernelspec": {
            "display_name": "Python 3.6",
            "language": "python",
            "name": "python3"
        },
        "language_info": {
            "codemirror_mode": {
                "name": "ipython",
                "version": 3
            },
            "file_extension": ".py",
            "mimetype": "text/x-python",
            "name": "python",
            "nbconvert_exporter": "python",
            "pygments_lexer": "ipython3",
            "version": "3.6.9"
        }
    },
    "nbformat": 4,
    "nbformat_minor": 1
}